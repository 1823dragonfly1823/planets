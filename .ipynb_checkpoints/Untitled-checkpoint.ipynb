{
 "cells": [
  {
   "cell_type": "code",
   "execution_count": 37,
   "id": "1b703054-7b77-442d-adcc-515c4c497e16",
   "metadata": {},
   "outputs": [
    {
     "name": "stdout",
     "output_type": "stream",
     "text": [
      "Twinkle, twinkle, little star, \n",
      "\tHow I wonder what you are! \n",
      "\t\tUp above the world so high, \n",
      "\t\tLike a diamond in the sky.\n",
      "Twinkle, twinkle, little star, \n",
      "\tHow I wonder what you are\n"
     ]
    }
   ],
   "source": [
    "##No1\n",
    "print(\"Twinkle, twinkle, little star, \\n\\tHow I wonder what you are! \\n\\t\\tUp above the world so high, \\n\\t\\tLike a diamond in the sky.\\nTwinkle, twinkle, little star, \\n\\tHow I wonder what you are\")"
   ]
  },
  {
   "cell_type": "code",
   "execution_count": 39,
   "id": "506bc1d7-9e25-40d8-8b52-c5d7eb4f77cb",
   "metadata": {},
   "outputs": [
    {
     "name": "stdout",
     "output_type": "stream",
     "text": [
      "3.9.13 (main, May 24 2022, 21:28:44) \n",
      "[Clang 13.0.0 (clang-1300.0.29.30)]\n"
     ]
    }
   ],
   "source": [
    "##No2\n",
    "import sys\n",
    "print(sys.version)"
   ]
  },
  {
   "cell_type": "code",
   "execution_count": 49,
   "id": "4fad7533-692b-4021-878a-0df798c663ef",
   "metadata": {},
   "outputs": [
    {
     "name": "stdout",
     "output_type": "stream",
     "text": [
      "Currrent date and time : \n",
      "2022-08-22 21:45:37\n"
     ]
    }
   ],
   "source": [
    "##No3\n",
    "import datetime\n",
    "t=datetime.datetime.now()\n",
    "print(\"Currrent date and time : \\n\" + (t.strftime(\"%Y-%m-%d %H:%M:%S\")))"
   ]
  },
  {
   "cell_type": "code",
   "execution_count": 36,
   "id": "fac1ab38-59e4-4ead-a720-86415400b122",
   "metadata": {},
   "outputs": [
    {
     "name": "stdout",
     "output_type": "stream",
     "text": [
      "1.1\n",
      "r=1.1\n",
      "Area=3.8013271108436504\n"
     ]
    }
   ],
   "source": [
    "##No4\n",
    "def area (r):\n",
    "    import math\n",
    "    area=math.pi*r**2\n",
    "    return area\n",
    "r=1.1\n",
    "print(r)\n",
    "print('r=' + str(r) + '\\nArea=' +str(area(r)))"
   ]
  },
  {
   "cell_type": "code",
   "execution_count": 51,
   "id": "5b671873-c41d-4aeb-97f0-cce622056f57",
   "metadata": {},
   "outputs": [
    {
     "name": "stdin",
     "output_type": "stream",
     "text": [
      "First name= Longfei\n",
      "Last name= Gao\n"
     ]
    },
    {
     "name": "stdout",
     "output_type": "stream",
     "text": [
      "Gao Longfei\n"
     ]
    }
   ],
   "source": [
    "##No5\n",
    "first_name=input(\"First name=\")\n",
    "last_name=input(\"Last name=\")\n",
    "print(last_name + \" \" + first_name)"
   ]
  },
  {
   "cell_type": "code",
   "execution_count": 77,
   "id": "e3d4c798-2554-4b73-a6c9-a79f973b304d",
   "metadata": {
    "jp-MarkdownHeadingCollapsed": true,
    "tags": []
   },
   "outputs": [
    {
     "name": "stdin",
     "output_type": "stream",
     "text": [
      "Input some comma seprated numbers :  1,2,3,4\n"
     ]
    },
    {
     "name": "stdout",
     "output_type": "stream",
     "text": [
      "List :  ['1', '2', '3', '4']\n",
      "Tuple :  ('1', '2', '3', '4')\n"
     ]
    }
   ],
   "source": [
    "##No6\n",
    "values = input(\"Input some comma seprated numbers : \")\n",
    "list = values.split(\",\")\n",
    "tup=tuple(list)\n",
    "print('List : ',list)\n",
    "print('Tuple : ',tup)"
   ]
  },
  {
   "cell_type": "code",
   "execution_count": 80,
   "id": "1cdf3599-3f41-409e-a921-558f0bd0d18d",
   "metadata": {},
   "outputs": [
    {
     "name": "stdin",
     "output_type": "stream",
     "text": [
      " abc.java\n"
     ]
    },
    {
     "name": "stdout",
     "output_type": "stream",
     "text": [
      "java\n"
     ]
    }
   ],
   "source": [
    "##No7\n",
    "Filename=input()\n",
    "print(Filename.split(\".\")[1])"
   ]
  },
  {
   "cell_type": "code",
   "execution_count": 84,
   "id": "5643b4a0-86f3-43f3-9e48-bfb4dcf5c2fe",
   "metadata": {},
   "outputs": [
    {
     "name": "stdout",
     "output_type": "stream",
     "text": [
      "First color is Red\n",
      "Last color is Black\n"
     ]
    }
   ],
   "source": [
    "##No8\n",
    "def First_last_col(lt):\n",
    "    first=lt[0]\n",
    "    last=lt[-1]\n",
    "    print(\"First color is \" + first + \"\\nLast color is \" + last)\n",
    "color_list = [\"Red\",\"Green\",\"White\" ,\"Black\"]\n",
    "First_last_col(color_list)\n"
   ]
  },
  {
   "cell_type": "code",
   "execution_count": 90,
   "id": "27419d7b-576d-4731-b026-57a8ef5db825",
   "metadata": {},
   "outputs": [
    {
     "name": "stdout",
     "output_type": "stream",
     "text": [
      "The examination will start from : 11 /12 /2014\n",
      "The examination will start from : 11 / 12 / 2014\n"
     ]
    }
   ],
   "source": [
    "##No9\n",
    "def exam_date(inputdate):\n",
    "    print(\"The examination will start from : \" + str(inputdate[0]) + \\\n",
    "         \" /\" + str(inputdate[1]) +  \" /\" + str(inputdate[2]))\n",
    "exam_st_date = (11, 12, 2014)\n",
    "exam_date(exam_st_date)\n",
    "\n",
    "print(\"The examination will start from : %i / %i / %i\"%exam_st_date)"
   ]
  },
  {
   "cell_type": "code",
   "execution_count": 105,
   "id": "d82915b7-0ce5-4be9-855c-bb560fcdce5a",
   "metadata": {},
   "outputs": [
    {
     "name": "stdin",
     "output_type": "stream",
     "text": [
      "Sample value of n is  5\n"
     ]
    },
    {
     "name": "stdout",
     "output_type": "stream",
     "text": [
      "Expected Result :615\n"
     ]
    },
    {
     "name": "stdin",
     "output_type": "stream",
     "text": [
      "Input an integer :  5\n"
     ]
    },
    {
     "name": "stdout",
     "output_type": "stream",
     "text": [
      "616\n"
     ]
    }
   ],
   "source": [
    "#No10\n",
    "def sum (n):\n",
    "    n=int(n)\n",
    "    return n+(n*10)+n+(n*100)+(n*10)+n\n",
    "n=input(\"Sample value of n is \")\n",
    "print(\"Expected Result :\" + str(sum(n)))\n",
    "\n",
    "a = int(input(\"Input an integer : \"))\n",
    "n1 = int( \"%x\" % a )\n",
    "n2 = int( \"%x%x\" % (a,a) )\n",
    "n3 = int( \"%x%x%x\" % (a,a,a) )\n",
    "print (n1+n2+n3)"
   ]
  },
  {
   "cell_type": "code",
   "execution_count": 108,
   "id": "2398d46c-88a5-449a-be9c-1ed8e1582208",
   "metadata": {},
   "outputs": [
    {
     "name": "stdout",
     "output_type": "stream",
     "text": [
      "Help on built-in function abs in module builtins:\n",
      "\n",
      "abs(x, /)\n",
      "    Return the absolute value of the argument.\n",
      "\n",
      "None\n",
      "####################\n",
      "str(object='') -> str\n",
      "str(bytes_or_buffer[, encoding[, errors]]) -> str\n",
      "\n",
      "Create a new string object from the given object. If encoding or\n",
      "errors is specified, then the object must expose a data buffer\n",
      "that will be decoded using the given encoding and error handler.\n",
      "Otherwise, returns the result of object.__str__() (if defined)\n",
      "or repr(object).\n",
      "encoding defaults to sys.getdefaultencoding().\n",
      "errors defaults to 'strict'.\n"
     ]
    }
   ],
   "source": [
    "##No11\n",
    "fnname=\"abs\"\n",
    "\n",
    "print(help(abs))\n",
    "print(\"#\"*20)\n",
    "print(fnname.__doc__)"
   ]
  },
  {
   "cell_type": "code",
   "execution_count": 126,
   "id": "7785ebec-fd6b-4e84-9d96-6783bc7aebcd",
   "metadata": {},
   "outputs": [
    {
     "name": "stdin",
     "output_type": "stream",
     "text": [
      "Input the year :  2022\n",
      "Input the month :  8\n"
     ]
    },
    {
     "name": "stdout",
     "output_type": "stream",
     "text": [
      "    August 2022\n",
      "Su Mo Tu We Th Fr Sa\n",
      "    1  2  3  4  5  6\n",
      " 7  8  9 10 11 12 13\n",
      "14 15 16 17 18 19 20\n",
      "21 22 23 24 25 26 27\n",
      "28 29 30 31\n",
      "\n"
     ]
    }
   ],
   "source": [
    "##No12\n",
    "import calendar\n",
    "calendar.setfirstweekday(6)\n",
    "y = int(input(\"Input the year : \"))\n",
    "m = int(input(\"Input the month : \"))\n",
    "mm=calendar.month(y, m)\n",
    "print(mm)\n"
   ]
  },
  {
   "cell_type": "code",
   "execution_count": 135,
   "id": "4ce77ff5-6265-4f36-ac37-c8ab82b09f60",
   "metadata": {},
   "outputs": [
    {
     "name": "stdout",
     "output_type": "stream",
     "text": [
      "\n",
      "a string that you \"don't\" have to escape \n",
      "This \n",
      "is a ....... multi-line\n",
      "heredoc string --------> example\n",
      "\n"
     ]
    }
   ],
   "source": [
    "##No13\n",
    "print(\"\"\"\n",
    "a string that you \"don't\" have to escape \n",
    "This \n",
    "is a ....... multi-line\n",
    "heredoc string --------> example\n",
    "\"\"\")"
   ]
  },
  {
   "cell_type": "code",
   "execution_count": 138,
   "id": "01961845-aa19-415a-b911-70fb4e2716e4",
   "metadata": {},
   "outputs": [
    {
     "name": "stdout",
     "output_type": "stream",
     "text": [
      "3200\n"
     ]
    }
   ],
   "source": [
    "##No14\n",
    "from datetime import date\n",
    "f_date = date(2013, 11, 17)\n",
    "l_date = date(2022, 8, 22)\n",
    "delta = l_date - f_date\n",
    "print(delta.days)"
   ]
  },
  {
   "cell_type": "code",
   "execution_count": 140,
   "id": "971329da-f929-4b67-9456-ff2ab7340949",
   "metadata": {},
   "outputs": [
    {
     "name": "stdout",
     "output_type": "stream",
     "text": [
      "904.7786842338604\n"
     ]
    }
   ],
   "source": [
    "##No15\n",
    "def vol(r):\n",
    "    from math import pi as p \n",
    "    return p*r**3*4/3\n",
    "\n",
    "print(vol(6))"
   ]
  },
  {
   "cell_type": "code",
   "execution_count": 144,
   "id": "2d796c4a-16eb-4e3e-b509-2083f0f8353e",
   "metadata": {},
   "outputs": [
    {
     "name": "stdout",
     "output_type": "stream",
     "text": [
      "6\n",
      "3\n"
     ]
    }
   ],
   "source": [
    "##No16\n",
    "def com (n):\n",
    "    if n>17 :\n",
    "        return (2 * (int(n)-17))\n",
    "    else:\n",
    "        return (17- int(n))\n",
    "print(com(20))\n",
    "print(3)"
   ]
  },
  {
   "cell_type": "code",
   "execution_count": 148,
   "id": "2c62cebc-3aa9-41b6-bab2-309970eab5d8",
   "metadata": {},
   "outputs": [
    {
     "name": "stdout",
     "output_type": "stream",
     "text": [
      "F\n",
      "T\n",
      "F\n"
     ]
    }
   ],
   "source": [
    "##No17\n",
    "def fd (n):\n",
    "    if n>1000 and n<2000:\n",
    "        print (\"T\")\n",
    "    else:\n",
    "        print(\"F\")\n",
    "\n",
    "fd(3)\n",
    "fd(1343)\n",
    "fd(5433)"
   ]
  },
  {
   "cell_type": "code",
   "execution_count": 150,
   "id": "d47a71ba-e28f-4ca1-8498-ffa65fa28069",
   "metadata": {},
   "outputs": [
    {
     "name": "stdout",
     "output_type": "stream",
     "text": [
      "6\n",
      "9\n"
     ]
    }
   ],
   "source": [
    "##No18\n",
    "def sum_of_three (n1,n2,n3):\n",
    "    if n1==n2 and n2==n3:\n",
    "        return (3*(n1+n2+n3))\n",
    "    else:\n",
    "        return n1+n2+n3\n",
    "\n",
    "print(sum_of_three(1,2,3))\n",
    "print(sum_of_three(1,1,1))"
   ]
  },
  {
   "cell_type": "code",
   "execution_count": 154,
   "id": "2288904f-95f3-498f-a648-2b97b44054d5",
   "metadata": {},
   "outputs": [
    {
     "name": "stdout",
     "output_type": "stream",
     "text": [
      "ablsdfg\n",
      "lsabcd\n"
     ]
    }
   ],
   "source": [
    "##No19\n",
    "def ls_str (str):\n",
    "    if \"ls\" in str:\n",
    "        return str\n",
    "    else:\n",
    "        return (\"ls\"+str)\n",
    "    \n",
    "print(ls_str(\"ablsdfg\"))\n",
    "\n",
    "print(ls_str(\"abcd\"))"
   ]
  },
  {
   "cell_type": "code",
   "execution_count": 156,
   "id": "3e4e3b41-0fb0-40e3-acd0-c38d0f20a2f5",
   "metadata": {},
   "outputs": [
    {
     "name": "stdout",
     "output_type": "stream",
     "text": [
      ".py.py.py\n"
     ]
    }
   ],
   "source": [
    "##No20\n",
    "def nStr (n, str1):\n",
    "    return (str1*n)\n",
    "print(nStr(3,\".py\"))"
   ]
  },
  {
   "cell_type": "code",
   "execution_count": 161,
   "id": "0746044c-02a5-412d-ba23-cf89ef7b3e8e",
   "metadata": {},
   "outputs": [
    {
     "name": "stdout",
     "output_type": "stream",
     "text": [
      "4is an odd number\n",
      "5is an even number\n"
     ]
    }
   ],
   "source": [
    "##No21\n",
    "def EvenOROdd (n):\n",
    "    if n%2:\n",
    "        print(str(n) + \" is an even number\")\n",
    "    else:\n",
    "        print(str(n) + \" is an odd number\")\n",
    "EvenOROdd(4)\n",
    "EvenOROdd(5)"
   ]
  },
  {
   "cell_type": "code",
   "execution_count": 165,
   "id": "1294c7ac-acdb-4618-bb34-4081d3bd8f76",
   "metadata": {},
   "outputs": [
    {
     "name": "stdout",
     "output_type": "stream",
     "text": [
      "3\n"
     ]
    }
   ],
   "source": [
    "##No22\n",
    "def count4 (ls):\n",
    "    n=0\n",
    "    for x in ls:\n",
    "        if x==4:\n",
    "            n+=1\n",
    "    print(n)\n",
    "\n",
    "count4([1,2,3,4,4,44,55,3,4])\n",
    "    "
   ]
  },
  {
   "cell_type": "code",
   "execution_count": 166,
   "id": "56f01463-cba1-422c-a7d1-e4c7f1f9cafd",
   "metadata": {},
   "outputs": [
    {
     "name": "stdout",
     "output_type": "stream",
     "text": [
      "hehehe\n",
      "hhh\n"
     ]
    }
   ],
   "source": [
    "##No23\n",
    "def strcopy(str11,n):\n",
    "    if len(str11)<2:\n",
    "        print(str11*n)\n",
    "    else:\n",
    "        print(str11[:2]*n)\n",
    "\n",
    "strcopy(\"hello\",3)\n",
    "strcopy(\"h\",3)"
   ]
  },
  {
   "cell_type": "code",
   "execution_count": 173,
   "id": "3ff442b5-0a18-4799-80a0-afab81f9ff6b",
   "metadata": {},
   "outputs": [
    {
     "name": "stdout",
     "output_type": "stream",
     "text": [
      "o is a vowel\n",
      "b is not a vowel\n"
     ]
    }
   ],
   "source": [
    "##No24\n",
    "def is_vowel(l):\n",
    "    if l in 'aeiuo':\n",
    "        print (l + \" is a vowel\")\n",
    "    else:\n",
    "        print  (l + \" is not a vowel\")\n",
    "is_vowel('o')\n",
    "is_vowel('b')"
   ]
  },
  {
   "cell_type": "code",
   "execution_count": 178,
   "id": "d13ddfe3-00ad-4b07-a1d2-516d8424da9c",
   "metadata": {},
   "outputs": [],
   "source": [
    "##No25\n",
    "def find_value (n, group):\n",
    "    m=0\n",
    "    for i in group:\n",
    "        if n==i:\n",
    "            m+=1\n",
    "    if m:\n",
    "        print(str(n) + \" is in \" + str(group))\n",
    "    else:\n",
    "        print(str(n) + \" is not in \" + str(group))\n",
    "find_value(3,[1, 5, 8, 3])\n",
    "find_value(-2,[1, 5, 8, 3])\n"
   ]
  },
  {
   "cell_type": "code",
   "execution_count": null,
   "id": "4763a147-4de9-46ea-9bfe-92662afba5e7",
   "metadata": {},
   "outputs": [],
   "source": [
    "##No26\n",
    "import matplotlib.pyplot as plt\n",
    "x=[1,2,4,5]\n",
    "print(x)\n",
    "plt.hist(x)\n",
    "plt.show() "
   ]
  },
  {
   "cell_type": "code",
   "execution_count": null,
   "id": "02aaecf4-a474-4533-8cc8-7b6b5396c181",
   "metadata": {},
   "outputs": [],
   "source": []
  },
  {
   "cell_type": "code",
   "execution_count": null,
   "id": "e3e9c1cc-7f3c-4879-a105-dda50075a727",
   "metadata": {},
   "outputs": [],
   "source": [
    "import matplotlib.pyplot as plt\n",
    "import numpy as np\n",
    "\n",
    "x = np.random.normal(170, 10, 250)\n",
    "print(x)"
   ]
  },
  {
   "cell_type": "code",
   "execution_count": null,
   "id": "e601ac17-4508-4222-8cd2-35d72ad3d675",
   "metadata": {},
   "outputs": [],
   "source": [
    "%reset_selective x\n",
    "x\n"
   ]
  },
  {
   "cell_type": "code",
   "execution_count": null,
   "id": "267e265a-4498-4767-9193-ddc489af7f9d",
   "metadata": {},
   "outputs": [],
   "source": [
    "1+1\n"
   ]
  },
  {
   "cell_type": "code",
   "execution_count": null,
   "id": "bf1e28cc-139e-4e00-899d-1e7ebecfbcbb",
   "metadata": {},
   "outputs": [],
   "source": []
  },
  {
   "cell_type": "code",
   "execution_count": null,
   "id": "b0eecabb-140f-4cd9-8440-49069ad5195b",
   "metadata": {},
   "outputs": [],
   "source": []
  }
 ],
 "metadata": {
  "kernelspec": {
   "display_name": "Python 3 (ipykernel)",
   "language": "python",
   "name": "python3"
  },
  "language_info": {
   "codemirror_mode": {
    "name": "ipython",
    "version": 3
   },
   "file_extension": ".py",
   "mimetype": "text/x-python",
   "name": "python",
   "nbconvert_exporter": "python",
   "pygments_lexer": "ipython3",
   "version": "3.9.13"
  }
 },
 "nbformat": 4,
 "nbformat_minor": 5
}
